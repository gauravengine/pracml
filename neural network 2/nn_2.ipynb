{
  "cells": [
    {
      "cell_type": "code",
      "execution_count": 1,
      "metadata": {
        "id": "oc6limXhG_bC"
      },
      "outputs": [],
      "source": [
        "import numpy as np\n"
      ]
    },
    {
      "cell_type": "code",
      "execution_count": 2,
      "metadata": {
        "colab": {
          "base_uri": "https://localhost:8080/"
        },
        "id": "CoR3_Z0wJbS8",
        "outputId": "076770b5-83bf-48ec-bad3-2a8c62fd3d77"
      },
      "outputs": [
        {
          "data": {
            "text/plain": [
              "((4, 2), (4, 1))"
            ]
          },
          "execution_count": 2,
          "metadata": {},
          "output_type": "execute_result"
        }
      ],
      "source": [
        "X=np.array([[0,0],[0,1],[1,0],[1,1]])\n",
        "Y=np.array([[0,0,0,1]]).T\n",
        "X.shape ,Y.shape"
      ]
    },
    {
      "cell_type": "code",
      "execution_count": 3,
      "metadata": {
        "id": "-CrS6M42Jzkj"
      },
      "outputs": [],
      "source": [
        "def sig(z):\n",
        "    # print(type(z))\n",
        "    # print(\"z printed milord\")\n",
        "    return 1/(1+np.exp(-1*z))\n",
        "  "
      ]
    },
    {
      "cell_type": "code",
      "execution_count": 4,
      "metadata": {},
      "outputs": [],
      "source": [
        "def dsig(z):\n",
        "    return sig(z)*(1-sig(z))"
      ]
    },
    {
      "cell_type": "code",
      "execution_count": 5,
      "metadata": {
        "colab": {
          "base_uri": "https://localhost:8080/"
        },
        "id": "aZBs3toxLgR0",
        "outputId": "5cdfce8b-b2f6-4312-abf6-ce811fb4f2f5"
      },
      "outputs": [
        {
          "name": "stdout",
          "output_type": "stream",
          "text": [
            "[[-0.93262039]\n",
            " [ 0.33771813]] [0.54939697]\n"
          ]
        }
      ],
      "source": [
        "weights=2*np.random.random((2,1)) - 1\n",
        "bias=2*np.random.random(1)-1\n",
        "print(weights,bias)"
      ]
    },
    {
      "cell_type": "code",
      "execution_count": 6,
      "metadata": {
        "id": "hvEcaLrQL1sM"
      },
      "outputs": [
        {
          "name": "stdout",
          "output_type": "stream",
          "text": [
            "[[0.63399567]\n",
            " [0.70829447]\n",
            " [0.40534968]\n",
            " [0.48862564]]\n"
          ]
        }
      ],
      "source": [
        "\n",
        "output0=X\n",
        "output=sig(np.dot(output0,weights)+bias)\n",
        "print(output)"
      ]
    },
    {
      "cell_type": "code",
      "execution_count": 7,
      "metadata": {},
      "outputs": [],
      "source": [
        "# this is difft wid hidden layer only forward propagation\n",
        "wh=2*np.random.random((2,2))-1\n",
        "bh=2*np.random.random((1,2)) -1\n",
        "bo=2*np.random.random((1,1))-1\n",
        "lr=0.1\n",
        "wo=2*np.random.random((2,1)) -1\n",
        "#print(wh)\n"
      ]
    },
    {
      "cell_type": "code",
      "execution_count": 8,
      "metadata": {},
      "outputs": [
        {
          "name": "stdout",
          "output_type": "stream",
          "text": [
            "[[0.42877583]\n",
            " [0.3972471 ]\n",
            " [0.49003354]\n",
            " [0.45787564]]\n"
          ]
        }
      ],
      "source": [
        "#extension of above\n",
        "output0=X\n",
        "outputH=sig(np.dot(output0,wh) + bh)\n",
        "outputf=sig(np.dot(outputH,wo)+bo)\n",
        "print(outputf)"
      ]
    },
    {
      "cell_type": "code",
      "execution_count": 13,
      "metadata": {},
      "outputs": [
        {
          "name": "stdout",
          "output_type": "stream",
          "text": [
            "[[1.21004680e-04]\n",
            " [4.36079470e-02]\n",
            " [4.36079679e-02]\n",
            " [9.44992309e-01]]\n"
          ]
        }
      ],
      "source": [
        "#neural network implementation without hidden layer wid back propagation but no hidden later\n",
        "# how more dumb can i be\n",
        "for _ in range(10000):\n",
        "    output0=X\n",
        "    output=sig(np.dot(output0,weights)+bias)\n",
        "    changes=np.array([[0.0],[0.0]])\n",
        "    first_term=output - Y\n",
        "    second_term=dsig(np.dot(output0,weights)+bias)\n",
        "    first_two=first_term*second_term\n",
        "    # print(first_two)\n",
        "    for i in range(4):\n",
        "        for j in range(2):\n",
        "            changes[j][0] += first_two[i][0]*output0[i][j]\n",
        "\n",
        "    weights=weights-lr*changes\n",
        "    bias_change=0.0\n",
        "    for i in range(4):\n",
        "        for j in range(2):\n",
        "            bias_change+= first_two[i][0]*1\n",
        "\n",
        "    bias=bias-lr*bias_change\n",
        "\n",
        "print(sig(np.dot(X,weights)+bias))\n",
        "\n",
        "\n",
        "    \n"
      ]
    },
    {
      "cell_type": "code",
      "execution_count": 15,
      "metadata": {},
      "outputs": [
        {
          "name": "stdout",
          "output_type": "stream",
          "text": [
            "[[2.61870876e-06]\n",
            " [1.28487681e-02]\n",
            " [1.28487681e-02]\n",
            " [9.84778022e-01]]\n"
          ]
        }
      ],
      "source": [
        "# doing this without for loops while multiplying\n",
        "for _ in range(100000):\n",
        "    output0=X\n",
        "    output=sig(np.dot(output0,weights)+bias)\n",
        "    changes=np.array([[0.0],[0.0]])\n",
        "    first_term=output - Y\n",
        "    second_term=dsig(np.dot(output0,weights)+bias)\n",
        "    first_two=first_term*second_term\n",
        "    # print(first_two)\n",
        "    changes=np.dot(output0.T,first_two)\n",
        "    # for i in range(4):\n",
        "    #     for j in range(2):\n",
        "    #         changes[j][0] += first_two[i][0]*output0[i][j]\n",
        "\n",
        "    weights=weights-lr*changes\n",
        "    bias_change=0.0\n",
        "    bias_change=np.sum(first_two)\n",
        "    # for i in range(4):\n",
        "    #     for j in range(2):\n",
        "    #         bias_change+= first_two[i][0]*1\n",
        "\n",
        "    bias=bias-lr*bias_change\n",
        "\n",
        "print(sig(np.dot(X,weights)+bias))"
      ]
    },
    {
      "cell_type": "code",
      "execution_count": null,
      "metadata": {},
      "outputs": [],
      "source": []
    }
  ],
  "metadata": {
    "colab": {
      "name": "nn-2.ipynb",
      "provenance": []
    },
    "kernelspec": {
      "display_name": "Python 3",
      "name": "python3"
    },
    "language_info": {
      "codemirror_mode": {
        "name": "ipython",
        "version": 3
      },
      "file_extension": ".py",
      "mimetype": "text/x-python",
      "name": "python",
      "nbconvert_exporter": "python",
      "pygments_lexer": "ipython3",
      "version": "3.9.9"
    }
  },
  "nbformat": 4,
  "nbformat_minor": 0
}
